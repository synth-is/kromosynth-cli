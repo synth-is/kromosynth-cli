{
 "cells": [
  {
   "cell_type": "code",
   "execution_count": null,
   "metadata": {},
   "outputs": [],
   "source": [
    "# Install a pip package in the current Jupyter kernel - https://jakevdp.github.io/blog/2017/12/05/installing-python-packages-from-jupyter/\n",
    "import sys\n",
    "!{sys.executable} -m pip install matplotlib numpy\n",
    "sys.path.append('.')\n",
    "import plotUtil"
   ]
  },
  {
   "attachments": {},
   "cell_type": "markdown",
   "metadata": {},
   "source": [
    "QD scores for a single evolutionary run."
   ]
  },
  {
   "cell_type": "code",
   "execution_count": null,
   "metadata": {},
   "outputs": [],
   "source": [
    "#json_file_path = '/Users/bthj/QD/conf-duration_delta_pitch_combinations/evolution-run-analysis_qd-scores,cell-scores,coverage,elite-generations,genome-statistics,genome-sets,variance,elites-energy,goal-switches,lineage,duration-pitch-delta-velocity-combinations_step-1000_thrshld_0.5_1685802618657.json'\n",
    "json_file_path = '/Users/bjornpjo/QD-ROBIN/conf-static_mutation_rate_combinations/evolution-run-analysis_qd-scores_step-1000_1684161673275.json'\n",
    "x_multiplier = 1000  # Set this value as the step size in the JSON file name\n",
    "\n",
    "# Read data from JSON file\n",
    "data = plotUtil.read_data_from_json(json_file_path)\n",
    "\n",
    "qd_score_arrays = plotUtil.extract_data_arrays(data, 'qdScores')\n",
    "\n",
    "print(qd_score_arrays)"
   ]
  },
  {
   "cell_type": "code",
   "execution_count": null,
   "metadata": {},
   "outputs": [],
   "source": [
    "import numpy as np\n",
    "\n",
    "def qdScoresPlot(plotter, x_values, qdScores, title):\n",
    "    plotter.plot(x_values, qdScores)\n",
    "    plotter.set_title(title)\n",
    "    plotter.set_xlabel('Step')\n",
    "    plotter.set_ylabel('qdScore')\n",
    "    # plotter.show()\n",
    "\n",
    "plotUtil.render_graphs(qd_score_arrays, x_multiplier, qdScoresPlot)"
   ]
  },
  {
   "cell_type": "code",
   "execution_count": null,
   "metadata": {},
   "outputs": [],
   "source": [
    "# Get the qdScores array from the JSON data at evoRuns[0].iterations[0].qdScores\n",
    "qdScores = data['evoRuns'][0]['iterations'][0]['qdScores']\n",
    "\n",
    "# Print the qdScores array\n",
    "print(qdScores)\n",
    "\n",
    "# Plot the qdScores array, where the x values are multiplied by x_multiplier\n",
    "import matplotlib.pyplot as plt\n",
    "\n",
    "x_values = np.arange(len(qdScores)) * x_multiplier\n",
    "title = 'QD score'\n",
    "qdScoresPlot(plt, x_values, qdScores, title)\n",
    "\n",
    "# plt.plot(np.arange(len(qdScores)) * x_multiplier, qdScores)\n",
    "# plt.xlabel('Step')\n",
    "# plt.ylabel('qdScore')\n",
    "# plt.show()\n",
    "\n"
   ]
  }
 ],
 "metadata": {
  "kernelspec": {
   "display_name": ".venv",
   "language": "python",
   "name": "python3"
  },
  "language_info": {
   "codemirror_mode": {
    "name": "ipython",
    "version": 3
   },
   "file_extension": ".py",
   "mimetype": "text/x-python",
   "name": "python",
   "nbconvert_exporter": "python",
   "pygments_lexer": "ipython3",
   "version": "3.10.10"
  },
  "orig_nbformat": 4
 },
 "nbformat": 4,
 "nbformat_minor": 2
}
