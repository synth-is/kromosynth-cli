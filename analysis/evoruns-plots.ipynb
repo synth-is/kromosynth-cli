{
 "cells": [
  {
   "cell_type": "code",
   "execution_count": 1,
   "metadata": {},
   "outputs": [
    {
     "name": "stdout",
     "output_type": "stream",
     "text": [
      "Requirement already satisfied: matplotlib in /opt/homebrew/lib/python3.10/site-packages (3.6.2)\n",
      "Requirement already satisfied: numpy in /opt/homebrew/lib/python3.10/site-packages (1.23.4)\n",
      "Requirement already satisfied: fonttools>=4.22.0 in /opt/homebrew/lib/python3.10/site-packages (from matplotlib) (4.38.0)\n",
      "Requirement already satisfied: cycler>=0.10 in /opt/homebrew/lib/python3.10/site-packages (from matplotlib) (0.11.0)\n",
      "Requirement already satisfied: python-dateutil>=2.7 in /Users/bjornpjo/Library/Python/3.10/lib/python/site-packages (from matplotlib) (2.8.2)\n",
      "Requirement already satisfied: packaging>=20.0 in /Users/bjornpjo/Library/Python/3.10/lib/python/site-packages (from matplotlib) (21.3)\n",
      "Requirement already satisfied: pillow>=6.2.0 in /opt/homebrew/lib/python3.10/site-packages (from matplotlib) (9.3.0)\n",
      "Requirement already satisfied: kiwisolver>=1.0.1 in /opt/homebrew/lib/python3.10/site-packages (from matplotlib) (1.4.4)\n",
      "Requirement already satisfied: contourpy>=1.0.1 in /opt/homebrew/lib/python3.10/site-packages (from matplotlib) (1.0.6)\n",
      "Requirement already satisfied: pyparsing>=2.2.1 in /Users/bjornpjo/Library/Python/3.10/lib/python/site-packages (from matplotlib) (3.0.9)\n",
      "Requirement already satisfied: six>=1.5 in /Users/bjornpjo/Library/Python/3.10/lib/python/site-packages (from python-dateutil>=2.7->matplotlib) (1.16.0)\n",
      "\n",
      "\u001b[1m[\u001b[0m\u001b[34;49mnotice\u001b[0m\u001b[1;39;49m]\u001b[0m\u001b[39;49m A new release of pip is available: \u001b[0m\u001b[31;49m23.0\u001b[0m\u001b[39;49m -> \u001b[0m\u001b[32;49m23.2.1\u001b[0m\n",
      "\u001b[1m[\u001b[0m\u001b[34;49mnotice\u001b[0m\u001b[1;39;49m]\u001b[0m\u001b[39;49m To update, run: \u001b[0m\u001b[32;49mpython3.10 -m pip install --upgrade pip\u001b[0m\n"
     ]
    }
   ],
   "source": [
    "# Install a pip package in the current Jupyter kernel - https://jakevdp.github.io/blog/2017/12/05/installing-python-packages-from-jupyter/\n",
    "import sys\n",
    "!{sys.executable} -m pip install matplotlib numpy"
   ]
  },
  {
   "cell_type": "code",
   "execution_count": 2,
   "metadata": {},
   "outputs": [],
   "source": [
    "import json\n",
    "import matplotlib.pyplot as plt\n",
    "import numpy as np"
   ]
  },
  {
   "cell_type": "code",
   "execution_count": 3,
   "metadata": {},
   "outputs": [
    {
     "ename": "FileNotFoundError",
     "evalue": "[Errno 2] No such file or directory: '/Users/bthj/QD/conf-static_mutation_rate_combinations_-_delete_rates/evolution-run-analysis_qd-scores,genome-statistics_step-1000_1684831116850.json'",
     "output_type": "error",
     "traceback": [
      "\u001b[0;31m---------------------------------------------------------------------------\u001b[0m",
      "\u001b[0;31mFileNotFoundError\u001b[0m                         Traceback (most recent call last)",
      "\u001b[1;32m/Users/bjornpjo/Developer/apps/kromosynth-cli/analysis/evoruns-plots.ipynb Cell 3\u001b[0m in \u001b[0;36m1\n\u001b[1;32m     <a href='vscode-notebook-cell:/Users/bjornpjo/Developer/apps/kromosynth-cli/analysis/evoruns-plots.ipynb#W2sZmlsZQ%3D%3D?line=10'>11</a>\u001b[0m     \u001b[39mreturn\u001b[39;00m data\n\u001b[1;32m     <a href='vscode-notebook-cell:/Users/bjornpjo/Developer/apps/kromosynth-cli/analysis/evoruns-plots.ipynb#W2sZmlsZQ%3D%3D?line=12'>13</a>\u001b[0m \u001b[39m# Read data from JSON file\u001b[39;00m\n\u001b[0;32m---> <a href='vscode-notebook-cell:/Users/bjornpjo/Developer/apps/kromosynth-cli/analysis/evoruns-plots.ipynb#W2sZmlsZQ%3D%3D?line=13'>14</a>\u001b[0m data \u001b[39m=\u001b[39m read_data_from_json(json_file_path)\n\u001b[1;32m     <a href='vscode-notebook-cell:/Users/bjornpjo/Developer/apps/kromosynth-cli/analysis/evoruns-plots.ipynb#W2sZmlsZQ%3D%3D?line=15'>16</a>\u001b[0m \u001b[39m# Extract data arrays from JSON\u001b[39;00m\n\u001b[1;32m     <a href='vscode-notebook-cell:/Users/bjornpjo/Developer/apps/kromosynth-cli/analysis/evoruns-plots.ipynb#W2sZmlsZQ%3D%3D?line=16'>17</a>\u001b[0m \u001b[39mdef\u001b[39;00m \u001b[39mextract_data_arrays\u001b[39m(data, attribute):\n",
      "\u001b[1;32m/Users/bjornpjo/Developer/apps/kromosynth-cli/analysis/evoruns-plots.ipynb Cell 3\u001b[0m in \u001b[0;36m9\n\u001b[1;32m      <a href='vscode-notebook-cell:/Users/bjornpjo/Developer/apps/kromosynth-cli/analysis/evoruns-plots.ipynb#W2sZmlsZQ%3D%3D?line=7'>8</a>\u001b[0m \u001b[39mdef\u001b[39;00m \u001b[39mread_data_from_json\u001b[39m(file_path):\n\u001b[0;32m----> <a href='vscode-notebook-cell:/Users/bjornpjo/Developer/apps/kromosynth-cli/analysis/evoruns-plots.ipynb#W2sZmlsZQ%3D%3D?line=8'>9</a>\u001b[0m     \u001b[39mwith\u001b[39;00m \u001b[39mopen\u001b[39;49m(file_path, \u001b[39m'\u001b[39;49m\u001b[39mr\u001b[39;49m\u001b[39m'\u001b[39;49m) \u001b[39mas\u001b[39;00m f:\n\u001b[1;32m     <a href='vscode-notebook-cell:/Users/bjornpjo/Developer/apps/kromosynth-cli/analysis/evoruns-plots.ipynb#W2sZmlsZQ%3D%3D?line=9'>10</a>\u001b[0m         data \u001b[39m=\u001b[39m json\u001b[39m.\u001b[39mload(f)\n\u001b[1;32m     <a href='vscode-notebook-cell:/Users/bjornpjo/Developer/apps/kromosynth-cli/analysis/evoruns-plots.ipynb#W2sZmlsZQ%3D%3D?line=10'>11</a>\u001b[0m     \u001b[39mreturn\u001b[39;00m data\n",
      "File \u001b[0;32m~/Library/Python/3.10/lib/python/site-packages/IPython/core/interactiveshell.py:282\u001b[0m, in \u001b[0;36m_modified_open\u001b[0;34m(file, *args, **kwargs)\u001b[0m\n\u001b[1;32m    275\u001b[0m \u001b[39mif\u001b[39;00m file \u001b[39min\u001b[39;00m {\u001b[39m0\u001b[39m, \u001b[39m1\u001b[39m, \u001b[39m2\u001b[39m}:\n\u001b[1;32m    276\u001b[0m     \u001b[39mraise\u001b[39;00m \u001b[39mValueError\u001b[39;00m(\n\u001b[1;32m    277\u001b[0m         \u001b[39mf\u001b[39m\u001b[39m\"\u001b[39m\u001b[39mIPython won\u001b[39m\u001b[39m'\u001b[39m\u001b[39mt let you open fd=\u001b[39m\u001b[39m{\u001b[39;00mfile\u001b[39m}\u001b[39;00m\u001b[39m by default \u001b[39m\u001b[39m\"\u001b[39m\n\u001b[1;32m    278\u001b[0m         \u001b[39m\"\u001b[39m\u001b[39mas it is likely to crash IPython. If you know what you are doing, \u001b[39m\u001b[39m\"\u001b[39m\n\u001b[1;32m    279\u001b[0m         \u001b[39m\"\u001b[39m\u001b[39myou can use builtins\u001b[39m\u001b[39m'\u001b[39m\u001b[39m open.\u001b[39m\u001b[39m\"\u001b[39m\n\u001b[1;32m    280\u001b[0m     )\n\u001b[0;32m--> 282\u001b[0m \u001b[39mreturn\u001b[39;00m io_open(file, \u001b[39m*\u001b[39;49margs, \u001b[39m*\u001b[39;49m\u001b[39m*\u001b[39;49mkwargs)\n",
      "\u001b[0;31mFileNotFoundError\u001b[0m: [Errno 2] No such file or directory: '/Users/bthj/QD/conf-static_mutation_rate_combinations_-_delete_rates/evolution-run-analysis_qd-scores,genome-statistics_step-1000_1684831116850.json'"
     ]
    }
   ],
   "source": [
    "# Specify the path to your JSON file\n",
    "json_file_path = '/Users/bthj/QD/conf-static_mutation_rate_combinations_-_delete_rates/evolution-run-analysis_qd-scores,genome-statistics_step-1000_1684831116850.json'\n",
    "\n",
    "# Specify the constant multiplier for x-values\n",
    "x_multiplier = 1000  # Set this value as the step size in the JSON file name\n",
    "\n",
    "# Read data from JSON file\n",
    "def read_data_from_json(file_path):\n",
    "    with open(file_path, 'r') as f:\n",
    "        data = json.load(f)\n",
    "    return data\n",
    "\n",
    "# Read data from JSON file\n",
    "data = read_data_from_json(json_file_path)\n",
    "\n",
    "# Extract data arrays from JSON\n",
    "def extract_data_arrays(data, attribute):\n",
    "    arrays = []\n",
    "    for evo_run in data['evoRuns']:\n",
    "        iterations = evo_run['iterations']\n",
    "        if iterations and len(iterations) > 0:\n",
    "            for iteration in iterations:\n",
    "                if attribute in iteration:\n",
    "                    iteration[\"label\"] = evo_run[\"label\"]\n",
    "                    arrays.append({\n",
    "                        \"dataArray\": iteration[attribute],\n",
    "                        \"label\": evo_run[\"label\"]   \n",
    "                    })\n",
    "    return arrays\n",
    "\n",
    "# Render graph for each array\n",
    "def render_graphs(arrays, x_multiplier, y_label):\n",
    "    num_arrays = len(arrays)\n",
    "    num_cols = 2  # Number of columns in the grid (you can adjust this)\n",
    "    num_rows = (num_arrays + num_cols - 1) // num_cols\n",
    "    fig, axs = plt.subplots(num_rows, num_cols, figsize=(12, 20))\n",
    "    fig.tight_layout(pad=3.0)\n",
    "\n",
    "    for i, arrayContainer in enumerate(arrays):\n",
    "        array = arrayContainer[\"dataArray\"]\n",
    "        arrayLabel = arrayContainer[\"label\"]\n",
    "        x_values = np.arange(len(array)) * x_multiplier\n",
    "        row = i // num_cols\n",
    "        col = i % num_cols\n",
    "        ax = axs[row, col] if num_rows > 1 else axs[col]\n",
    "\n",
    "        if all(isinstance(element, (int, float)) for element in array):\n",
    "            # Array contains numbers\n",
    "            ax.plot(x_values, array)\n",
    "        elif all(isinstance(element, dict) for element in array):\n",
    "            # Array contains objects\n",
    "            attributes = array[0].keys()  # Assuming all objects have the same attributes\n",
    "            for attribute in attributes:\n",
    "                values = [obj[attribute] for obj in array]\n",
    "                ax.plot(x_values, values, label=attribute)\n",
    "            ax.legend()\n",
    "\n",
    "        ax.set_title(arrayLabel, fontsize=10, pad=10)\n",
    "        plt.xlabel('Iteration')\n",
    "        plt.ylabel(y_label)\n",
    "\n",
    "    # Remove empty subplots\n",
    "    for i in range(num_arrays, num_rows * num_cols):\n",
    "        row = i // num_cols\n",
    "        col = i % num_cols\n",
    "        axs[row, col].axis('off')\n",
    "\n",
    "    plt.show()"
   ]
  },
  {
   "cell_type": "code",
   "execution_count": null,
   "metadata": {},
   "outputs": [],
   "source": []
  },
  {
   "attachments": {},
   "cell_type": "markdown",
   "metadata": {},
   "source": [
    "Plot QD scores for each evolution run:"
   ]
  },
  {
   "cell_type": "code",
   "execution_count": null,
   "metadata": {},
   "outputs": [],
   "source": [
    "\n",
    "# Extract data arrays from JSON\n",
    "qd_score_arrays = extract_data_arrays(data, 'qdScores')\n",
    "\n",
    "# Render graph for each array with multiplied x-values\n",
    "render_graphs(qd_score_arrays, x_multiplier, 'QD score')\n"
   ]
  },
  {
   "attachments": {},
   "cell_type": "markdown",
   "metadata": {},
   "source": [
    "Plot genome statistics (averages of node and connection counts):"
   ]
  },
  {
   "cell_type": "code",
   "execution_count": null,
   "metadata": {},
   "outputs": [],
   "source": [
    "# Extract data arrays from JSON\n",
    "genome_statistics_arrays = extract_data_arrays(data, 'genomeStatistics')\n",
    "\n",
    "# Render graph for each array with multiplied x-values\n",
    "render_graphs(genome_statistics_arrays, x_multiplier, 'Genome stats')"
   ]
  }
 ],
 "metadata": {
  "kernelspec": {
   "display_name": ".venv",
   "language": "python",
   "name": "python3"
  },
  "language_info": {
   "codemirror_mode": {
    "name": "ipython",
    "version": 3
   },
   "file_extension": ".py",
   "mimetype": "text/x-python",
   "name": "python",
   "nbconvert_exporter": "python",
   "pygments_lexer": "ipython3",
   "version": "3.10.10"
  },
  "orig_nbformat": 4
 },
 "nbformat": 4,
 "nbformat_minor": 2
}
