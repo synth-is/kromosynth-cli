{
 "cells": [
  {
   "cell_type": "code",
   "execution_count": null,
   "metadata": {},
   "outputs": [],
   "source": [
    "# Install a pip package in the current Jupyter kernel - https://jakevdp.github.io/blog/2017/12/05/installing-python-packages-from-jupyter/\n",
    "import sys\n",
    "!{sys.executable} -m pip install matplotlib numpy"
   ]
  },
  {
   "cell_type": "code",
   "execution_count": null,
   "metadata": {},
   "outputs": [],
   "source": [
    "import json\n",
    "import matplotlib.pyplot as plt\n",
    "import numpy as np"
   ]
  },
  {
   "cell_type": "code",
   "execution_count": null,
   "metadata": {},
   "outputs": [],
   "source": [
    "# Specify the path to your JSON file\n",
    "json_file_path = '/Users/bthj/QD/conf-static_mutation_rate_combinations_-_delete_rates/evolution-run-analysis_qd-scores,genome-statistics_step-1000_1684831116850.json'\n",
    "\n",
    "# Specify the constant multiplier for x-values\n",
    "x_multiplier = 1000  # Set this value as the step size in the JSON file name\n",
    "\n",
    "# Read data from JSON file\n",
    "def read_data_from_json(file_path):\n",
    "    with open(file_path, 'r') as f:\n",
    "        data = json.load(f)\n",
    "    return data\n",
    "\n",
    "# Read data from JSON file\n",
    "data = read_data_from_json(json_file_path)\n",
    "\n",
    "# Extract data arrays from JSON\n",
    "def extract_data_arrays(data, attribute):\n",
    "    arrays = []\n",
    "    for evo_run in data['evoRuns']:\n",
    "        iterations = evo_run['iterations']\n",
    "        if iterations and len(iterations) > 0:\n",
    "            for iteration in iterations:\n",
    "                if attribute in iteration:\n",
    "                    iteration[\"label\"] = evo_run[\"label\"]\n",
    "                    arrays.append({\n",
    "                        \"dataArray\": iteration[attribute],\n",
    "                        \"label\": evo_run[\"label\"]   \n",
    "                    })\n",
    "    return arrays\n",
    "\n",
    "# Render graph for each array\n",
    "def render_graphs(arrays, x_multiplier, y_label):\n",
    "    num_arrays = len(arrays)\n",
    "    num_cols = 2  # Number of columns in the grid (you can adjust this)\n",
    "    num_rows = (num_arrays + num_cols - 1) // num_cols\n",
    "    fig, axs = plt.subplots(num_rows, num_cols, figsize=(12, 20))\n",
    "    fig.tight_layout(pad=3.0)\n",
    "\n",
    "    for i, arrayContainer in enumerate(arrays):\n",
    "        array = arrayContainer[\"dataArray\"]\n",
    "        arrayLabel = arrayContainer[\"label\"]\n",
    "        x_values = np.arange(len(array)) * x_multiplier\n",
    "        row = i // num_cols\n",
    "        col = i % num_cols\n",
    "        ax = axs[row, col] if num_rows > 1 else axs[col]\n",
    "\n",
    "        if all(isinstance(element, (int, float)) for element in array):\n",
    "            # Array contains numbers\n",
    "            ax.plot(x_values, array)\n",
    "        elif all(isinstance(element, dict) for element in array):\n",
    "            # Array contains objects\n",
    "            attributes = array[0].keys()  # Assuming all objects have the same attributes\n",
    "            for attribute in attributes:\n",
    "                values = [obj[attribute] for obj in array]\n",
    "                ax.plot(x_values, values, label=attribute)\n",
    "            ax.legend()\n",
    "\n",
    "        ax.set_title(arrayLabel, fontsize=10, pad=10)\n",
    "        plt.xlabel('Iteration')\n",
    "        plt.ylabel(y_label)\n",
    "\n",
    "    # Remove empty subplots\n",
    "    for i in range(num_arrays, num_rows * num_cols):\n",
    "        row = i // num_cols\n",
    "        col = i % num_cols\n",
    "        axs[row, col].axis('off')\n",
    "\n",
    "    plt.show()"
   ]
  },
  {
   "cell_type": "code",
   "execution_count": null,
   "metadata": {},
   "outputs": [],
   "source": []
  },
  {
   "attachments": {},
   "cell_type": "markdown",
   "metadata": {},
   "source": [
    "Plot QD scores for each evolution run:"
   ]
  },
  {
   "cell_type": "code",
   "execution_count": null,
   "metadata": {},
   "outputs": [],
   "source": [
    "\n",
    "# Extract data arrays from JSON\n",
    "qd_score_arrays = extract_data_arrays(data, 'qdScores')\n",
    "\n",
    "# Render graph for each array with multiplied x-values\n",
    "render_graphs(qd_score_arrays, x_multiplier, 'QD score')\n"
   ]
  },
  {
   "attachments": {},
   "cell_type": "markdown",
   "metadata": {},
   "source": [
    "Plot genome statistics (averages of node and connection counts):"
   ]
  },
  {
   "cell_type": "code",
   "execution_count": null,
   "metadata": {},
   "outputs": [],
   "source": [
    "# Extract data arrays from JSON\n",
    "genome_statistics_arrays = extract_data_arrays(data, 'genomeStatistics')\n",
    "\n",
    "# Render graph for each array with multiplied x-values\n",
    "render_graphs(genome_statistics_arrays, x_multiplier, 'Genome stats')"
   ]
  }
 ],
 "metadata": {
  "kernelspec": {
   "display_name": ".venv",
   "language": "python",
   "name": "python3"
  },
  "language_info": {
   "codemirror_mode": {
    "name": "ipython",
    "version": 3
   },
   "file_extension": ".py",
   "mimetype": "text/x-python",
   "name": "python",
   "nbconvert_exporter": "python",
   "pygments_lexer": "ipython3",
   "version": "3.9.6"
  },
  "orig_nbformat": 4
 },
 "nbformat": 4,
 "nbformat_minor": 2
}
